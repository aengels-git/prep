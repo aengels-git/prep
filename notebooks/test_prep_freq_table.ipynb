{
 "cells": [
  {
   "cell_type": "code",
   "execution_count": 1,
   "metadata": {},
   "outputs": [],
   "source": [
    "import os\n",
    "CURDIR = os.getcwd().split(\"\\\\\")\n",
    "if \"notebooks\" in CURDIR:\n",
    "    n = len(CURDIR) - CURDIR.index(\"notebooks\")\n",
    "    os.chdir(os.getcwd() + (\"\\\\..\" * n))"
   ]
  },
  {
   "cell_type": "code",
   "execution_count": 2,
   "metadata": {},
   "outputs": [],
   "source": [
    "import seaborn as sns\n",
    "import polars as pl\n",
    "diamonds = pl.DataFrame(sns.load_dataset(\"diamonds\"))"
   ]
  },
  {
   "cell_type": "code",
   "execution_count": null,
   "metadata": {},
   "outputs": [],
   "source": [
    "def prep_pivot_table(df, index, outcomes, agg_fun):\n",
    "    "
   ]
  },
  {
   "cell_type": "code",
   "execution_count": 100,
   "metadata": {},
   "outputs": [
    {
     "data": {
      "text/html": [
       "<div><style>\n",
       ".dataframe > thead > tr > th,\n",
       ".dataframe > tbody > tr > td {\n",
       "  text-align: right;\n",
       "}\n",
       "</style>\n",
       "<small>shape: (35, 3)</small><table border=\"1\" class=\"dataframe\"><thead><tr><th>cut</th><th>variable</th><th>value</th></tr><tr><td>cat</td><td>str</td><td>f64</td></tr></thead><tbody><tr><td>&quot;Ideal&quot;</td><td>&quot;E&quot;</td><td>2597.55009</td></tr><tr><td>&quot;Premium&quot;</td><td>&quot;E&quot;</td><td>3538.91442</td></tr><tr><td>&quot;Good&quot;</td><td>&quot;E&quot;</td><td>3423.644159</td></tr><tr><td>&quot;Very Good&quot;</td><td>&quot;E&quot;</td><td>3214.652083</td></tr><tr><td>&quot;Fair&quot;</td><td>&quot;E&quot;</td><td>3682.3125</td></tr><tr><td>&quot;Ideal&quot;</td><td>&quot;I&quot;</td><td>4451.970377</td></tr><tr><td>&quot;Premium&quot;</td><td>&quot;I&quot;</td><td>5946.180672</td></tr><tr><td>&quot;Good&quot;</td><td>&quot;I&quot;</td><td>5078.532567</td></tr><tr><td>&quot;Very Good&quot;</td><td>&quot;I&quot;</td><td>5255.879568</td></tr><tr><td>&quot;Fair&quot;</td><td>&quot;I&quot;</td><td>4685.445714</td></tr><tr><td>&quot;Ideal&quot;</td><td>&quot;J&quot;</td><td>4918.186384</td></tr><tr><td>&quot;Premium&quot;</td><td>&quot;J&quot;</td><td>6294.591584</td></tr><tr><td>&hellip;</td><td>&hellip;</td><td>&hellip;</td></tr><tr><td>&quot;Very Good&quot;</td><td>&quot;F&quot;</td><td>3778.82024</td></tr><tr><td>&quot;Fair&quot;</td><td>&quot;F&quot;</td><td>3827.003205</td></tr><tr><td>&quot;Ideal&quot;</td><td>&quot;G&quot;</td><td>3720.706388</td></tr><tr><td>&quot;Premium&quot;</td><td>&quot;G&quot;</td><td>4500.742134</td></tr><tr><td>&quot;Good&quot;</td><td>&quot;G&quot;</td><td>4123.482204</td></tr><tr><td>&quot;Very Good&quot;</td><td>&quot;G&quot;</td><td>3872.753806</td></tr><tr><td>&quot;Fair&quot;</td><td>&quot;G&quot;</td><td>4239.254777</td></tr><tr><td>&quot;Ideal&quot;</td><td>&quot;D&quot;</td><td>2629.094566</td></tr><tr><td>&quot;Premium&quot;</td><td>&quot;D&quot;</td><td>3631.292576</td></tr><tr><td>&quot;Good&quot;</td><td>&quot;D&quot;</td><td>3405.382175</td></tr><tr><td>&quot;Very Good&quot;</td><td>&quot;D&quot;</td><td>3470.467284</td></tr><tr><td>&quot;Fair&quot;</td><td>&quot;D&quot;</td><td>4291.06135</td></tr></tbody></table></div>"
      ],
      "text/plain": [
       "shape: (35, 3)\n",
       "┌───────────┬──────────┬─────────────┐\n",
       "│ cut       ┆ variable ┆ value       │\n",
       "│ ---       ┆ ---      ┆ ---         │\n",
       "│ cat       ┆ str      ┆ f64         │\n",
       "╞═══════════╪══════════╪═════════════╡\n",
       "│ Ideal     ┆ E        ┆ 2597.55009  │\n",
       "│ Premium   ┆ E        ┆ 3538.91442  │\n",
       "│ Good      ┆ E        ┆ 3423.644159 │\n",
       "│ Very Good ┆ E        ┆ 3214.652083 │\n",
       "│ …         ┆ …        ┆ …           │\n",
       "│ Premium   ┆ D        ┆ 3631.292576 │\n",
       "│ Good      ┆ D        ┆ 3405.382175 │\n",
       "│ Very Good ┆ D        ┆ 3470.467284 │\n",
       "│ Fair      ┆ D        ┆ 4291.06135  │\n",
       "└───────────┴──────────┴─────────────┘"
      ]
     },
     "execution_count": 100,
     "metadata": {},
     "output_type": "execute_result"
    }
   ],
   "source": [
    "# Pivot Table:\n",
    "pivot_tab = diamonds.pivot(values=\"price\", index=\"cut\", columns=\"color\", aggregate_function=pl.element().mean())\n",
    "# Convert to long format:\n",
    "pivot_tab.melt(id_vars=\"cut\")"
   ]
  },
  {
   "cell_type": "code",
   "execution_count": 9,
   "metadata": {},
   "outputs": [
    {
     "data": {
      "text/html": [
       "<div>\n",
       "<style scoped>\n",
       "    .dataframe tbody tr th:only-of-type {\n",
       "        vertical-align: middle;\n",
       "    }\n",
       "\n",
       "    .dataframe tbody tr th {\n",
       "        vertical-align: top;\n",
       "    }\n",
       "\n",
       "    .dataframe thead th {\n",
       "        text-align: right;\n",
       "    }\n",
       "</style>\n",
       "<table border=\"1\" class=\"dataframe\">\n",
       "  <thead>\n",
       "    <tr style=\"text-align: right;\">\n",
       "      <th></th>\n",
       "      <th>cut</th>\n",
       "      <th>count</th>\n",
       "      <th>proportion</th>\n",
       "    </tr>\n",
       "  </thead>\n",
       "  <tbody>\n",
       "    <tr>\n",
       "      <th>0</th>\n",
       "      <td>Good</td>\n",
       "      <td>4906</td>\n",
       "      <td>9.1%</td>\n",
       "    </tr>\n",
       "    <tr>\n",
       "      <th>1</th>\n",
       "      <td>Premium</td>\n",
       "      <td>13791</td>\n",
       "      <td>25.6%</td>\n",
       "    </tr>\n",
       "    <tr>\n",
       "      <th>2</th>\n",
       "      <td>Fair</td>\n",
       "      <td>1610</td>\n",
       "      <td>3.0%</td>\n",
       "    </tr>\n",
       "    <tr>\n",
       "      <th>3</th>\n",
       "      <td>Ideal</td>\n",
       "      <td>21551</td>\n",
       "      <td>40.0%</td>\n",
       "    </tr>\n",
       "    <tr>\n",
       "      <th>4</th>\n",
       "      <td>Very Good</td>\n",
       "      <td>12082</td>\n",
       "      <td>22.4%</td>\n",
       "    </tr>\n",
       "  </tbody>\n",
       "</table>\n",
       "</div>"
      ],
      "text/plain": [
       "         cut  count proportion\n",
       "0       Good   4906       9.1%\n",
       "1    Premium  13791      25.6%\n",
       "2       Fair   1610       3.0%\n",
       "3      Ideal  21551      40.0%\n",
       "4  Very Good  12082      22.4%"
      ]
     },
     "execution_count": 9,
     "metadata": {},
     "output_type": "execute_result"
    }
   ],
   "source": [
    "from prep.prep_freq_table import prep_freq_table\n",
    "prep_freq_table(sns.load_dataset(\"diamonds\"), \"cut\", report=True, digits=1)"
   ]
  },
  {
   "cell_type": "code",
   "execution_count": 41,
   "metadata": {},
   "outputs": [
    {
     "data": {
      "text/html": [
       "<div><style>\n",
       ".dataframe > thead > tr > th,\n",
       ".dataframe > tbody > tr > td {\n",
       "  text-align: right;\n",
       "}\n",
       "</style>\n",
       "<small>shape: (53_940, 4)</small><table border=\"1\" class=\"dataframe\"><thead><tr><th>carat</th><th>cut</th><th>color</th><th>clarity</th></tr><tr><td>f64</td><td>cat</td><td>cat</td><td>cat</td></tr></thead><tbody><tr><td>0.23</td><td>&quot;Ideal&quot;</td><td>&quot;E&quot;</td><td>&quot;SI2&quot;</td></tr><tr><td>0.21</td><td>&quot;Premium&quot;</td><td>&quot;E&quot;</td><td>&quot;SI1&quot;</td></tr><tr><td>0.23</td><td>&quot;Good&quot;</td><td>&quot;E&quot;</td><td>&quot;VS1&quot;</td></tr><tr><td>0.29</td><td>&quot;Premium&quot;</td><td>&quot;I&quot;</td><td>&quot;VS2&quot;</td></tr><tr><td>0.31</td><td>&quot;Good&quot;</td><td>&quot;J&quot;</td><td>&quot;SI2&quot;</td></tr><tr><td>0.24</td><td>&quot;Very Good&quot;</td><td>&quot;J&quot;</td><td>&quot;VVS2&quot;</td></tr><tr><td>0.24</td><td>&quot;Very Good&quot;</td><td>&quot;I&quot;</td><td>&quot;VVS1&quot;</td></tr><tr><td>0.26</td><td>&quot;Very Good&quot;</td><td>&quot;H&quot;</td><td>&quot;SI1&quot;</td></tr><tr><td>0.22</td><td>&quot;Fair&quot;</td><td>&quot;E&quot;</td><td>&quot;VS2&quot;</td></tr><tr><td>0.23</td><td>&quot;Very Good&quot;</td><td>&quot;H&quot;</td><td>&quot;VS1&quot;</td></tr><tr><td>0.3</td><td>&quot;Good&quot;</td><td>&quot;J&quot;</td><td>&quot;SI1&quot;</td></tr><tr><td>0.23</td><td>&quot;Ideal&quot;</td><td>&quot;J&quot;</td><td>&quot;VS1&quot;</td></tr><tr><td>&hellip;</td><td>&hellip;</td><td>&hellip;</td><td>&hellip;</td></tr><tr><td>0.79</td><td>&quot;Premium&quot;</td><td>&quot;E&quot;</td><td>&quot;SI2&quot;</td></tr><tr><td>0.71</td><td>&quot;Ideal&quot;</td><td>&quot;G&quot;</td><td>&quot;VS1&quot;</td></tr><tr><td>0.71</td><td>&quot;Premium&quot;</td><td>&quot;E&quot;</td><td>&quot;SI1&quot;</td></tr><tr><td>0.71</td><td>&quot;Premium&quot;</td><td>&quot;F&quot;</td><td>&quot;SI1&quot;</td></tr><tr><td>0.7</td><td>&quot;Very Good&quot;</td><td>&quot;E&quot;</td><td>&quot;VS2&quot;</td></tr><tr><td>0.7</td><td>&quot;Very Good&quot;</td><td>&quot;E&quot;</td><td>&quot;VS2&quot;</td></tr><tr><td>0.72</td><td>&quot;Premium&quot;</td><td>&quot;D&quot;</td><td>&quot;SI1&quot;</td></tr><tr><td>0.72</td><td>&quot;Ideal&quot;</td><td>&quot;D&quot;</td><td>&quot;SI1&quot;</td></tr><tr><td>0.72</td><td>&quot;Good&quot;</td><td>&quot;D&quot;</td><td>&quot;SI1&quot;</td></tr><tr><td>0.7</td><td>&quot;Very Good&quot;</td><td>&quot;D&quot;</td><td>&quot;SI1&quot;</td></tr><tr><td>0.86</td><td>&quot;Premium&quot;</td><td>&quot;H&quot;</td><td>&quot;SI2&quot;</td></tr><tr><td>0.75</td><td>&quot;Ideal&quot;</td><td>&quot;D&quot;</td><td>&quot;SI2&quot;</td></tr></tbody></table></div>"
      ],
      "text/plain": [
       "shape: (53_940, 4)\n",
       "┌───────┬───────────┬───────┬─────────┐\n",
       "│ carat ┆ cut       ┆ color ┆ clarity │\n",
       "│ ---   ┆ ---       ┆ ---   ┆ ---     │\n",
       "│ f64   ┆ cat       ┆ cat   ┆ cat     │\n",
       "╞═══════╪═══════════╪═══════╪═════════╡\n",
       "│ 0.23  ┆ Ideal     ┆ E     ┆ SI2     │\n",
       "│ 0.21  ┆ Premium   ┆ E     ┆ SI1     │\n",
       "│ 0.23  ┆ Good      ┆ E     ┆ VS1     │\n",
       "│ 0.29  ┆ Premium   ┆ I     ┆ VS2     │\n",
       "│ …     ┆ …         ┆ …     ┆ …       │\n",
       "│ 0.72  ┆ Good      ┆ D     ┆ SI1     │\n",
       "│ 0.7   ┆ Very Good ┆ D     ┆ SI1     │\n",
       "│ 0.86  ┆ Premium   ┆ H     ┆ SI2     │\n",
       "│ 0.75  ┆ Ideal     ┆ D     ┆ SI2     │\n",
       "└───────┴───────────┴───────┴─────────┘"
      ]
     },
     "execution_count": 41,
     "metadata": {},
     "output_type": "execute_result"
    }
   ],
   "source": [
    "diamonds.select(\"cut\") # one variable\n",
    "diamonds.select([\"cut\",\"color\"]) # multiple variables\n",
    "\n",
    "# Select based on regular expression\n",
    "def select_if(df, regex=r\".\"):\n",
    "    import re\n",
    "    return df.select([col for col in df.columns if bool(re.search(regex,col))])\n",
    "\n",
    "#select_if(diamonds, r\"^c\") \n",
    "diamonds.pipe(select_if,r\"^c\")"
   ]
  },
  {
   "cell_type": "code",
   "execution_count": 13,
   "metadata": {},
   "outputs": [
    {
     "name": "stdout",
     "output_type": "stream",
     "text": [
      "True\n",
      "True\n",
      "True\n",
      "True\n",
      "False\n",
      "False\n",
      "True\n",
      "False\n",
      "False\n",
      "False\n"
     ]
    }
   ],
   "source": [
    "for col in diamonds.columns:\n",
    "    print(bool(re.search(r\"c\",col)))"
   ]
  },
  {
   "cell_type": "code",
   "execution_count": 56,
   "metadata": {},
   "outputs": [
    {
     "data": {
      "text/html": [
       "<div><style>\n",
       ".dataframe > thead > tr > th,\n",
       ".dataframe > tbody > tr > td {\n",
       "  text-align: right;\n",
       "}\n",
       "</style>\n",
       "<small>shape: (23_161, 10)</small><table border=\"1\" class=\"dataframe\"><thead><tr><th>carat</th><th>cut</th><th>color</th><th>clarity</th><th>depth</th><th>table</th><th>price</th><th>x</th><th>y</th><th>z</th></tr><tr><td>f64</td><td>cat</td><td>cat</td><td>cat</td><td>f64</td><td>f64</td><td>i64</td><td>f64</td><td>f64</td><td>f64</td></tr></thead><tbody><tr><td>0.23</td><td>&quot;Ideal&quot;</td><td>&quot;E&quot;</td><td>&quot;SI2&quot;</td><td>61.5</td><td>55.0</td><td>326</td><td>3.95</td><td>3.98</td><td>2.43</td></tr><tr><td>0.22</td><td>&quot;Fair&quot;</td><td>&quot;E&quot;</td><td>&quot;VS2&quot;</td><td>65.1</td><td>61.0</td><td>337</td><td>3.87</td><td>3.78</td><td>2.49</td></tr><tr><td>0.23</td><td>&quot;Ideal&quot;</td><td>&quot;J&quot;</td><td>&quot;VS1&quot;</td><td>62.8</td><td>56.0</td><td>340</td><td>3.93</td><td>3.9</td><td>2.46</td></tr><tr><td>0.31</td><td>&quot;Ideal&quot;</td><td>&quot;J&quot;</td><td>&quot;SI2&quot;</td><td>62.2</td><td>54.0</td><td>344</td><td>4.35</td><td>4.37</td><td>2.71</td></tr><tr><td>0.3</td><td>&quot;Ideal&quot;</td><td>&quot;I&quot;</td><td>&quot;SI2&quot;</td><td>62.0</td><td>54.0</td><td>348</td><td>4.31</td><td>4.34</td><td>2.68</td></tr><tr><td>0.33</td><td>&quot;Ideal&quot;</td><td>&quot;I&quot;</td><td>&quot;SI2&quot;</td><td>61.8</td><td>55.0</td><td>403</td><td>4.49</td><td>4.51</td><td>2.78</td></tr><tr><td>0.33</td><td>&quot;Ideal&quot;</td><td>&quot;I&quot;</td><td>&quot;SI2&quot;</td><td>61.2</td><td>56.0</td><td>403</td><td>4.49</td><td>4.5</td><td>2.75</td></tr><tr><td>0.33</td><td>&quot;Ideal&quot;</td><td>&quot;J&quot;</td><td>&quot;SI1&quot;</td><td>61.1</td><td>56.0</td><td>403</td><td>4.49</td><td>4.55</td><td>2.76</td></tr><tr><td>0.23</td><td>&quot;Ideal&quot;</td><td>&quot;G&quot;</td><td>&quot;VS1&quot;</td><td>61.9</td><td>54.0</td><td>404</td><td>3.93</td><td>3.95</td><td>2.44</td></tr><tr><td>0.32</td><td>&quot;Ideal&quot;</td><td>&quot;I&quot;</td><td>&quot;SI1&quot;</td><td>60.9</td><td>55.0</td><td>404</td><td>4.45</td><td>4.48</td><td>2.72</td></tr><tr><td>0.3</td><td>&quot;Ideal&quot;</td><td>&quot;I&quot;</td><td>&quot;SI2&quot;</td><td>61.0</td><td>59.0</td><td>405</td><td>4.3</td><td>4.33</td><td>2.63</td></tr><tr><td>0.35</td><td>&quot;Ideal&quot;</td><td>&quot;I&quot;</td><td>&quot;VS1&quot;</td><td>60.9</td><td>57.0</td><td>552</td><td>4.54</td><td>4.59</td><td>2.78</td></tr><tr><td>&hellip;</td><td>&hellip;</td><td>&hellip;</td><td>&hellip;</td><td>&hellip;</td><td>&hellip;</td><td>&hellip;</td><td>&hellip;</td><td>&hellip;</td><td>&hellip;</td></tr><tr><td>0.83</td><td>&quot;Ideal&quot;</td><td>&quot;G&quot;</td><td>&quot;SI2&quot;</td><td>62.4</td><td>54.0</td><td>2751</td><td>6.01</td><td>6.08</td><td>3.77</td></tr><tr><td>0.72</td><td>&quot;Ideal&quot;</td><td>&quot;H&quot;</td><td>&quot;VVS2&quot;</td><td>62.3</td><td>56.0</td><td>2752</td><td>5.74</td><td>5.81</td><td>3.6</td></tr><tr><td>0.73</td><td>&quot;Ideal&quot;</td><td>&quot;H&quot;</td><td>&quot;VS2&quot;</td><td>62.5</td><td>58.0</td><td>2752</td><td>5.71</td><td>5.75</td><td>3.58</td></tr><tr><td>0.77</td><td>&quot;Ideal&quot;</td><td>&quot;E&quot;</td><td>&quot;SI2&quot;</td><td>62.1</td><td>56.0</td><td>2753</td><td>5.84</td><td>5.86</td><td>3.63</td></tr><tr><td>0.76</td><td>&quot;Ideal&quot;</td><td>&quot;I&quot;</td><td>&quot;VVS1&quot;</td><td>62.2</td><td>55.0</td><td>2753</td><td>5.89</td><td>5.87</td><td>3.66</td></tr><tr><td>0.73</td><td>&quot;Ideal&quot;</td><td>&quot;I&quot;</td><td>&quot;VS2&quot;</td><td>61.3</td><td>56.0</td><td>2756</td><td>5.8</td><td>5.84</td><td>3.57</td></tr><tr><td>0.73</td><td>&quot;Ideal&quot;</td><td>&quot;I&quot;</td><td>&quot;VS2&quot;</td><td>61.6</td><td>55.0</td><td>2756</td><td>5.82</td><td>5.84</td><td>3.59</td></tr><tr><td>0.79</td><td>&quot;Ideal&quot;</td><td>&quot;I&quot;</td><td>&quot;SI1&quot;</td><td>61.6</td><td>56.0</td><td>2756</td><td>5.95</td><td>5.97</td><td>3.67</td></tr><tr><td>0.71</td><td>&quot;Ideal&quot;</td><td>&quot;E&quot;</td><td>&quot;SI1&quot;</td><td>61.9</td><td>56.0</td><td>2756</td><td>5.71</td><td>5.73</td><td>3.54</td></tr><tr><td>0.71</td><td>&quot;Ideal&quot;</td><td>&quot;G&quot;</td><td>&quot;VS1&quot;</td><td>61.4</td><td>56.0</td><td>2756</td><td>5.76</td><td>5.73</td><td>3.53</td></tr><tr><td>0.72</td><td>&quot;Ideal&quot;</td><td>&quot;D&quot;</td><td>&quot;SI1&quot;</td><td>60.8</td><td>57.0</td><td>2757</td><td>5.75</td><td>5.76</td><td>3.5</td></tr><tr><td>0.75</td><td>&quot;Ideal&quot;</td><td>&quot;D&quot;</td><td>&quot;SI2&quot;</td><td>62.2</td><td>55.0</td><td>2757</td><td>5.83</td><td>5.87</td><td>3.64</td></tr></tbody></table></div>"
      ],
      "text/plain": [
       "shape: (23_161, 10)\n",
       "┌───────┬───────┬───────┬─────────┬───┬───────┬──────┬──────┬──────┐\n",
       "│ carat ┆ cut   ┆ color ┆ clarity ┆ … ┆ price ┆ x    ┆ y    ┆ z    │\n",
       "│ ---   ┆ ---   ┆ ---   ┆ ---     ┆   ┆ ---   ┆ ---  ┆ ---  ┆ ---  │\n",
       "│ f64   ┆ cat   ┆ cat   ┆ cat     ┆   ┆ i64   ┆ f64  ┆ f64  ┆ f64  │\n",
       "╞═══════╪═══════╪═══════╪═════════╪═══╪═══════╪══════╪══════╪══════╡\n",
       "│ 0.23  ┆ Ideal ┆ E     ┆ SI2     ┆ … ┆ 326   ┆ 3.95 ┆ 3.98 ┆ 2.43 │\n",
       "│ 0.22  ┆ Fair  ┆ E     ┆ VS2     ┆ … ┆ 337   ┆ 3.87 ┆ 3.78 ┆ 2.49 │\n",
       "│ 0.23  ┆ Ideal ┆ J     ┆ VS1     ┆ … ┆ 340   ┆ 3.93 ┆ 3.9  ┆ 2.46 │\n",
       "│ 0.31  ┆ Ideal ┆ J     ┆ SI2     ┆ … ┆ 344   ┆ 4.35 ┆ 4.37 ┆ 2.71 │\n",
       "│ …     ┆ …     ┆ …     ┆ …       ┆ … ┆ …     ┆ …    ┆ …    ┆ …    │\n",
       "│ 0.71  ┆ Ideal ┆ E     ┆ SI1     ┆ … ┆ 2756  ┆ 5.71 ┆ 5.73 ┆ 3.54 │\n",
       "│ 0.71  ┆ Ideal ┆ G     ┆ VS1     ┆ … ┆ 2756  ┆ 5.76 ┆ 5.73 ┆ 3.53 │\n",
       "│ 0.72  ┆ Ideal ┆ D     ┆ SI1     ┆ … ┆ 2757  ┆ 5.75 ┆ 5.76 ┆ 3.5  │\n",
       "│ 0.75  ┆ Ideal ┆ D     ┆ SI2     ┆ … ┆ 2757  ┆ 5.83 ┆ 5.87 ┆ 3.64 │\n",
       "└───────┴───────┴───────┴─────────┴───┴───────┴──────┴──────┴──────┘"
      ]
     },
     "execution_count": 56,
     "metadata": {},
     "output_type": "execute_result"
    }
   ],
   "source": [
    "# Spezifische Auswahl\n",
    "diamonds.filter(\n",
    "    (pl.col(\"cut\") == \"Fair\") | (pl.col(\"cut\") == \"Ideal\")\n",
    ")\n",
    "\n",
    "# Filtern via Regex:\n",
    "diamonds.filter(\n",
    "    pl.col(\"cut\").cast(str).str.contains(\"Fair|Ideal\") \n",
    ")\n",
    "\n",
    "# Is Not in\n",
    "diamonds.filter(\n",
    "    ~pl.col(\"cut\").cast(str).is_in([\"Fair\", \"Ideal\"])\n",
    ")\n",
    "# Is in:\n",
    "diamonds.filter(\n",
    "    pl.col(\"cut\").cast(str).is_in([\"Fair\", \"Ideal\"])\n",
    ")"
   ]
  },
  {
   "cell_type": "code",
   "execution_count": 73,
   "metadata": {},
   "outputs": [
    {
     "data": {
      "text/html": [
       "<div><style>\n",
       ".dataframe > thead > tr > th,\n",
       ".dataframe > tbody > tr > td {\n",
       "  text-align: right;\n",
       "}\n",
       "</style>\n",
       "<small>shape: (5, 3)</small><table border=\"1\" class=\"dataframe\"><thead><tr><th>cut</th><th>max</th><th>min</th></tr><tr><td>cat</td><td>i64</td><td>i64</td></tr></thead><tbody><tr><td>&quot;Ideal&quot;</td><td>18806</td><td>326</td></tr><tr><td>&quot;Premium&quot;</td><td>18823</td><td>326</td></tr><tr><td>&quot;Very Good&quot;</td><td>18818</td><td>336</td></tr><tr><td>&quot;Good&quot;</td><td>18788</td><td>327</td></tr><tr><td>&quot;Fair&quot;</td><td>18574</td><td>337</td></tr></tbody></table></div>"
      ],
      "text/plain": [
       "shape: (5, 3)\n",
       "┌───────────┬───────┬─────┐\n",
       "│ cut       ┆ max   ┆ min │\n",
       "│ ---       ┆ ---   ┆ --- │\n",
       "│ cat       ┆ i64   ┆ i64 │\n",
       "╞═══════════╪═══════╪═════╡\n",
       "│ Ideal     ┆ 18806 ┆ 326 │\n",
       "│ Premium   ┆ 18823 ┆ 326 │\n",
       "│ Very Good ┆ 18818 ┆ 336 │\n",
       "│ Good      ┆ 18788 ┆ 327 │\n",
       "│ Fair      ┆ 18574 ┆ 337 │\n",
       "└───────────┴───────┴─────┘"
      ]
     },
     "execution_count": 73,
     "metadata": {},
     "output_type": "execute_result"
    }
   ],
   "source": [
    "diamonds.groupby(\"cut\").agg(\n",
    "    pl.col(\"price\").apply(lambda s : {\"min\":s.min(), \"max\":s.max()})\n",
    ").unnest(\"price\")"
   ]
  },
  {
   "cell_type": "code",
   "execution_count": 87,
   "metadata": {},
   "outputs": [
    {
     "data": {
      "text/html": [
       "<div><style>\n",
       ".dataframe > thead > tr > th,\n",
       ".dataframe > tbody > tr > td {\n",
       "  text-align: right;\n",
       "}\n",
       "</style>\n",
       "<small>shape: (5, 15)</small><table border=\"1\" class=\"dataframe\"><thead><tr><th>cut</th><th>mean_carat</th><th>mean_depth</th><th>mean_table</th><th>mean_price</th><th>mean_x</th><th>mean_y</th><th>mean_z</th><th>sum_carat</th><th>sum_depth</th><th>sum_table</th><th>sum_price</th><th>sum_x</th><th>sum_y</th><th>sum_z</th></tr><tr><td>cat</td><td>f64</td><td>f64</td><td>f64</td><td>f64</td><td>f64</td><td>f64</td><td>f64</td><td>f64</td><td>f64</td><td>f64</td><td>i64</td><td>f64</td><td>f64</td><td>f64</td></tr></thead><tbody><tr><td>&quot;Premium&quot;</td><td>0.891955</td><td>61.264673</td><td>58.746095</td><td>4584.257704</td><td>5.973887</td><td>5.944879</td><td>3.647124</td><td>12300.95</td><td>844901.1</td><td>810167.4</td><td>63221498</td><td>82385.88</td><td>81985.82</td><td>50297.49</td></tr><tr><td>&quot;Ideal&quot;</td><td>0.702837</td><td>61.709401</td><td>55.951668</td><td>3457.54197</td><td>5.507451</td><td>5.52008</td><td>3.401448</td><td>15146.84</td><td>1.3299e6</td><td>1.2058e6</td><td>74513487</td><td>118691.07</td><td>118963.24</td><td>73304.61</td></tr><tr><td>&quot;Fair&quot;</td><td>1.046137</td><td>64.041677</td><td>59.053789</td><td>4358.757764</td><td>6.246894</td><td>6.182652</td><td>3.98277</td><td>1684.28</td><td>103107.1</td><td>95076.6</td><td>7017600</td><td>10057.5</td><td>9954.07</td><td>6412.26</td></tr><tr><td>&quot;Very Good&quot;</td><td>0.806381</td><td>61.818275</td><td>57.95615</td><td>3981.759891</td><td>5.740696</td><td>5.770026</td><td>3.559801</td><td>9742.7</td><td>746888.4</td><td>700226.2</td><td>48107623</td><td>69359.09</td><td>69713.45</td><td>43009.52</td></tr><tr><td>&quot;Good&quot;</td><td>0.849185</td><td>62.365879</td><td>58.694639</td><td>3928.864452</td><td>5.838785</td><td>5.850744</td><td>3.639507</td><td>4166.1</td><td>305967.0</td><td>287955.9</td><td>19275009</td><td>28645.08</td><td>28703.75</td><td>17855.42</td></tr></tbody></table></div>"
      ],
      "text/plain": [
       "shape: (5, 15)\n",
       "┌───────────┬──────────┬──────────┬─────────────┬───┬───────────┬───────────┬───────────┬──────────┐\n",
       "│ cut       ┆ mean_car ┆ mean_dep ┆ mean_table  ┆ … ┆ sum_price ┆ sum_x     ┆ sum_y     ┆ sum_z    │\n",
       "│ ---       ┆ at       ┆ th       ┆ ---         ┆   ┆ ---       ┆ ---       ┆ ---       ┆ ---      │\n",
       "│ cat       ┆ ---      ┆ ---      ┆ f64         ┆   ┆ i64       ┆ f64       ┆ f64       ┆ f64      │\n",
       "│           ┆ f64      ┆ f64      ┆             ┆   ┆           ┆           ┆           ┆          │\n",
       "╞═══════════╪══════════╪══════════╪═════════════╪═══╪═══════════╪═══════════╪═══════════╪══════════╡\n",
       "│ Premium   ┆ 0.891955 ┆ 61.26467 ┆ 58.746095   ┆ … ┆ 63221498  ┆ 82385.88  ┆ 81985.82  ┆ 50297.49 │\n",
       "│           ┆          ┆ 3        ┆             ┆   ┆           ┆           ┆           ┆          │\n",
       "│ Ideal     ┆ 0.702837 ┆ 61.70940 ┆ 55.951668   ┆ … ┆ 74513487  ┆ 118691.07 ┆ 118963.24 ┆ 73304.61 │\n",
       "│           ┆          ┆ 1        ┆             ┆   ┆           ┆           ┆           ┆          │\n",
       "│ Fair      ┆ 1.046137 ┆ 64.04167 ┆ 59.053789   ┆ … ┆ 7017600   ┆ 10057.5   ┆ 9954.07   ┆ 6412.26  │\n",
       "│           ┆          ┆ 7        ┆             ┆   ┆           ┆           ┆           ┆          │\n",
       "│ Very Good ┆ 0.806381 ┆ 61.81827 ┆ 57.95615    ┆ … ┆ 48107623  ┆ 69359.09  ┆ 69713.45  ┆ 43009.52 │\n",
       "│           ┆          ┆ 5        ┆             ┆   ┆           ┆           ┆           ┆          │\n",
       "│ Good      ┆ 0.849185 ┆ 62.36587 ┆ 58.694639   ┆ … ┆ 19275009  ┆ 28645.08  ┆ 28703.75  ┆ 17855.42 │\n",
       "│           ┆          ┆ 9        ┆             ┆   ┆           ┆           ┆           ┆          │\n",
       "└───────────┴──────────┴──────────┴─────────────┴───┴───────────┴───────────┴───────────┴──────────┘"
      ]
     },
     "execution_count": 87,
     "metadata": {},
     "output_type": "execute_result"
    }
   ],
   "source": [
    "diamonds.groupby(\"cut\").agg(\n",
    "    pl.exclude(pl.Utf8, pl.Categorical).mean().prefix(\"mean_\"), # Mean of all numeric Variables,\n",
    "    pl.col(pl.Float64, pl.Int64).sum().prefix(\"sum_\") # Sum of all numeric Variables\n",
    ")"
   ]
  },
  {
   "cell_type": "code",
   "execution_count": 75,
   "metadata": {},
   "outputs": [
    {
     "data": {
      "text/html": [
       "<div><style>\n",
       ".dataframe > thead > tr > th,\n",
       ".dataframe > tbody > tr > td {\n",
       "  text-align: right;\n",
       "}\n",
       "</style>\n",
       "<small>shape: (10, 2)</small><table border=\"1\" class=\"dataframe\"><thead><tr><th>cut</th><th>price</th></tr><tr><td>cat</td><td>i64</td></tr></thead><tbody><tr><td>&quot;Ideal&quot;</td><td>326</td></tr><tr><td>&quot;Ideal&quot;</td><td>18806</td></tr><tr><td>&quot;Premium&quot;</td><td>326</td></tr><tr><td>&quot;Premium&quot;</td><td>18823</td></tr><tr><td>&quot;Very Good&quot;</td><td>336</td></tr><tr><td>&quot;Very Good&quot;</td><td>18818</td></tr><tr><td>&quot;Good&quot;</td><td>327</td></tr><tr><td>&quot;Good&quot;</td><td>18788</td></tr><tr><td>&quot;Fair&quot;</td><td>337</td></tr><tr><td>&quot;Fair&quot;</td><td>18574</td></tr></tbody></table></div>"
      ],
      "text/plain": [
       "shape: (10, 2)\n",
       "┌─────────┬───────┐\n",
       "│ cut     ┆ price │\n",
       "│ ---     ┆ ---   │\n",
       "│ cat     ┆ i64   │\n",
       "╞═════════╪═══════╡\n",
       "│ Ideal   ┆ 326   │\n",
       "│ Ideal   ┆ 18806 │\n",
       "│ Premium ┆ 326   │\n",
       "│ Premium ┆ 18823 │\n",
       "│ …       ┆ …     │\n",
       "│ Good    ┆ 327   │\n",
       "│ Good    ┆ 18788 │\n",
       "│ Fair    ┆ 337   │\n",
       "│ Fair    ┆ 18574 │\n",
       "└─────────┴───────┘"
      ]
     },
     "execution_count": 75,
     "metadata": {},
     "output_type": "execute_result"
    }
   ],
   "source": [
    "diamonds.groupby(\"cut\").agg(\n",
    "    pl.col(\"price\").apply(lambda s : [s.min(),s.max()])\n",
    ").explode(\"price\")"
   ]
  },
  {
   "cell_type": "code",
   "execution_count": 59,
   "metadata": {},
   "outputs": [
    {
     "data": {
      "text/html": [
       "<div><style>\n",
       ".dataframe > thead > tr > th,\n",
       ".dataframe > tbody > tr > td {\n",
       "  text-align: right;\n",
       "}\n",
       "</style>\n",
       "<small>shape: (30_779, 10)</small><table border=\"1\" class=\"dataframe\"><thead><tr><th>carat</th><th>cut</th><th>color</th><th>clarity</th><th>depth</th><th>table</th><th>price</th><th>x</th><th>y</th><th>z</th></tr><tr><td>f64</td><td>cat</td><td>cat</td><td>cat</td><td>f64</td><td>f64</td><td>i64</td><td>f64</td><td>f64</td><td>f64</td></tr></thead><tbody><tr><td>0.21</td><td>&quot;Premium&quot;</td><td>&quot;E&quot;</td><td>&quot;SI1&quot;</td><td>59.8</td><td>61.0</td><td>326</td><td>3.89</td><td>3.84</td><td>2.31</td></tr><tr><td>0.23</td><td>&quot;Good&quot;</td><td>&quot;E&quot;</td><td>&quot;VS1&quot;</td><td>56.9</td><td>65.0</td><td>327</td><td>4.05</td><td>4.07</td><td>2.31</td></tr><tr><td>0.29</td><td>&quot;Premium&quot;</td><td>&quot;I&quot;</td><td>&quot;VS2&quot;</td><td>62.4</td><td>58.0</td><td>334</td><td>4.2</td><td>4.23</td><td>2.63</td></tr><tr><td>0.31</td><td>&quot;Good&quot;</td><td>&quot;J&quot;</td><td>&quot;SI2&quot;</td><td>63.3</td><td>58.0</td><td>335</td><td>4.34</td><td>4.35</td><td>2.75</td></tr><tr><td>0.24</td><td>&quot;Very Good&quot;</td><td>&quot;J&quot;</td><td>&quot;VVS2&quot;</td><td>62.8</td><td>57.0</td><td>336</td><td>3.94</td><td>3.96</td><td>2.48</td></tr><tr><td>0.24</td><td>&quot;Very Good&quot;</td><td>&quot;I&quot;</td><td>&quot;VVS1&quot;</td><td>62.3</td><td>57.0</td><td>336</td><td>3.95</td><td>3.98</td><td>2.47</td></tr><tr><td>0.26</td><td>&quot;Very Good&quot;</td><td>&quot;H&quot;</td><td>&quot;SI1&quot;</td><td>61.9</td><td>55.0</td><td>337</td><td>4.07</td><td>4.11</td><td>2.53</td></tr><tr><td>0.23</td><td>&quot;Very Good&quot;</td><td>&quot;H&quot;</td><td>&quot;VS1&quot;</td><td>59.4</td><td>61.0</td><td>338</td><td>4.0</td><td>4.05</td><td>2.39</td></tr><tr><td>0.3</td><td>&quot;Good&quot;</td><td>&quot;J&quot;</td><td>&quot;SI1&quot;</td><td>64.0</td><td>55.0</td><td>339</td><td>4.25</td><td>4.28</td><td>2.73</td></tr><tr><td>0.22</td><td>&quot;Premium&quot;</td><td>&quot;F&quot;</td><td>&quot;SI1&quot;</td><td>60.4</td><td>61.0</td><td>342</td><td>3.88</td><td>3.84</td><td>2.33</td></tr><tr><td>0.2</td><td>&quot;Premium&quot;</td><td>&quot;E&quot;</td><td>&quot;SI2&quot;</td><td>60.2</td><td>62.0</td><td>345</td><td>3.79</td><td>3.75</td><td>2.27</td></tr><tr><td>0.32</td><td>&quot;Premium&quot;</td><td>&quot;E&quot;</td><td>&quot;I1&quot;</td><td>60.9</td><td>58.0</td><td>345</td><td>4.38</td><td>4.42</td><td>2.68</td></tr><tr><td>&hellip;</td><td>&hellip;</td><td>&hellip;</td><td>&hellip;</td><td>&hellip;</td><td>&hellip;</td><td>&hellip;</td><td>&hellip;</td><td>&hellip;</td><td>&hellip;</td></tr><tr><td>0.7</td><td>&quot;Very Good&quot;</td><td>&quot;E&quot;</td><td>&quot;VS2&quot;</td><td>62.8</td><td>60.0</td><td>2755</td><td>5.59</td><td>5.65</td><td>3.53</td></tr><tr><td>0.7</td><td>&quot;Very Good&quot;</td><td>&quot;D&quot;</td><td>&quot;VS1&quot;</td><td>63.1</td><td>59.0</td><td>2755</td><td>5.67</td><td>5.58</td><td>3.55</td></tr><tr><td>0.79</td><td>&quot;Good&quot;</td><td>&quot;F&quot;</td><td>&quot;SI1&quot;</td><td>58.1</td><td>59.0</td><td>2756</td><td>6.06</td><td>6.13</td><td>3.54</td></tr><tr><td>0.79</td><td>&quot;Premium&quot;</td><td>&quot;E&quot;</td><td>&quot;SI2&quot;</td><td>61.4</td><td>58.0</td><td>2756</td><td>6.03</td><td>5.96</td><td>3.68</td></tr><tr><td>0.71</td><td>&quot;Premium&quot;</td><td>&quot;E&quot;</td><td>&quot;SI1&quot;</td><td>60.5</td><td>55.0</td><td>2756</td><td>5.79</td><td>5.74</td><td>3.49</td></tr><tr><td>0.71</td><td>&quot;Premium&quot;</td><td>&quot;F&quot;</td><td>&quot;SI1&quot;</td><td>59.8</td><td>62.0</td><td>2756</td><td>5.74</td><td>5.73</td><td>3.43</td></tr><tr><td>0.7</td><td>&quot;Very Good&quot;</td><td>&quot;E&quot;</td><td>&quot;VS2&quot;</td><td>60.5</td><td>59.0</td><td>2757</td><td>5.71</td><td>5.76</td><td>3.47</td></tr><tr><td>0.7</td><td>&quot;Very Good&quot;</td><td>&quot;E&quot;</td><td>&quot;VS2&quot;</td><td>61.2</td><td>59.0</td><td>2757</td><td>5.69</td><td>5.72</td><td>3.49</td></tr><tr><td>0.72</td><td>&quot;Premium&quot;</td><td>&quot;D&quot;</td><td>&quot;SI1&quot;</td><td>62.7</td><td>59.0</td><td>2757</td><td>5.69</td><td>5.73</td><td>3.58</td></tr><tr><td>0.72</td><td>&quot;Good&quot;</td><td>&quot;D&quot;</td><td>&quot;SI1&quot;</td><td>63.1</td><td>55.0</td><td>2757</td><td>5.69</td><td>5.75</td><td>3.61</td></tr><tr><td>0.7</td><td>&quot;Very Good&quot;</td><td>&quot;D&quot;</td><td>&quot;SI1&quot;</td><td>62.8</td><td>60.0</td><td>2757</td><td>5.66</td><td>5.68</td><td>3.56</td></tr><tr><td>0.86</td><td>&quot;Premium&quot;</td><td>&quot;H&quot;</td><td>&quot;SI2&quot;</td><td>61.0</td><td>58.0</td><td>2757</td><td>6.15</td><td>6.12</td><td>3.74</td></tr></tbody></table></div>"
      ],
      "text/plain": [
       "shape: (30_779, 10)\n",
       "┌───────┬───────────┬───────┬─────────┬───┬───────┬──────┬──────┬──────┐\n",
       "│ carat ┆ cut       ┆ color ┆ clarity ┆ … ┆ price ┆ x    ┆ y    ┆ z    │\n",
       "│ ---   ┆ ---       ┆ ---   ┆ ---     ┆   ┆ ---   ┆ ---  ┆ ---  ┆ ---  │\n",
       "│ f64   ┆ cat       ┆ cat   ┆ cat     ┆   ┆ i64   ┆ f64  ┆ f64  ┆ f64  │\n",
       "╞═══════╪═══════════╪═══════╪═════════╪═══╪═══════╪══════╪══════╪══════╡\n",
       "│ 0.21  ┆ Premium   ┆ E     ┆ SI1     ┆ … ┆ 326   ┆ 3.89 ┆ 3.84 ┆ 2.31 │\n",
       "│ 0.23  ┆ Good      ┆ E     ┆ VS1     ┆ … ┆ 327   ┆ 4.05 ┆ 4.07 ┆ 2.31 │\n",
       "│ 0.29  ┆ Premium   ┆ I     ┆ VS2     ┆ … ┆ 334   ┆ 4.2  ┆ 4.23 ┆ 2.63 │\n",
       "│ 0.31  ┆ Good      ┆ J     ┆ SI2     ┆ … ┆ 335   ┆ 4.34 ┆ 4.35 ┆ 2.75 │\n",
       "│ …     ┆ …         ┆ …     ┆ …       ┆ … ┆ …     ┆ …    ┆ …    ┆ …    │\n",
       "│ 0.72  ┆ Premium   ┆ D     ┆ SI1     ┆ … ┆ 2757  ┆ 5.69 ┆ 5.73 ┆ 3.58 │\n",
       "│ 0.72  ┆ Good      ┆ D     ┆ SI1     ┆ … ┆ 2757  ┆ 5.69 ┆ 5.75 ┆ 3.61 │\n",
       "│ 0.7   ┆ Very Good ┆ D     ┆ SI1     ┆ … ┆ 2757  ┆ 5.66 ┆ 5.68 ┆ 3.56 │\n",
       "│ 0.86  ┆ Premium   ┆ H     ┆ SI2     ┆ … ┆ 2757  ┆ 6.15 ┆ 6.12 ┆ 3.74 │\n",
       "└───────┴───────────┴───────┴─────────┴───┴───────┴──────┴──────┴──────┘"
      ]
     },
     "execution_count": 59,
     "metadata": {},
     "output_type": "execute_result"
    }
   ],
   "source": [
    "prep_table = data.groupby(group_vars[1:]).agg(\n",
    "            pl.col(group_vars[0]).apply(lambda s: s.value_counts().to_dict())\n",
    "        ).unnest(group_vars[0]).explode([\"\",\"counts\"]).rename(\n",
    "            {\"\": group_vars[0]}\n",
    "        )"
   ]
  }
 ],
 "metadata": {
  "kernelspec": {
   "display_name": ".venv",
   "language": "python",
   "name": "python3"
  },
  "language_info": {
   "codemirror_mode": {
    "name": "ipython",
    "version": 3
   },
   "file_extension": ".py",
   "mimetype": "text/x-python",
   "name": "python",
   "nbconvert_exporter": "python",
   "pygments_lexer": "ipython3",
   "version": "3.9.13"
  },
  "orig_nbformat": 4
 },
 "nbformat": 4,
 "nbformat_minor": 2
}
