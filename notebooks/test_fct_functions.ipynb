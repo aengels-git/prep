{
 "cells": [
  {
   "cell_type": "code",
   "execution_count": 1,
   "metadata": {},
   "outputs": [],
   "source": [
    "import os\n",
    "CURDIR = os.getcwd().split(\"\\\\\")\n",
    "if \"notebooks\" in CURDIR:\n",
    "    n = len(CURDIR) - CURDIR.index(\"notebooks\")\n",
    "    os.chdir(os.getcwd() + (\"\\\\..\" * n))"
   ]
  },
  {
   "cell_type": "code",
   "execution_count": 2,
   "metadata": {},
   "outputs": [],
   "source": [
    "import seaborn as sns\n",
    "import polars as pl\n",
    "diamonds = pl.DataFrame(sns.load_dataset(\"diamonds\"))"
   ]
  },
  {
   "cell_type": "code",
   "execution_count": 6,
   "metadata": {},
   "outputs": [
    {
     "data": {
      "text/html": [
       "<div><style>\n",
       ".dataframe > thead > tr > th,\n",
       ".dataframe > tbody > tr > td {\n",
       "  text-align: right;\n",
       "}\n",
       "</style>\n",
       "<small>shape: (53_940, 10)</small><table border=\"1\" class=\"dataframe\"><thead><tr><th>carat</th><th>cut</th><th>color</th><th>clarity</th><th>depth</th><th>table</th><th>price</th><th>x</th><th>y</th><th>z</th></tr><tr><td>f64</td><td>cat</td><td>cat</td><td>cat</td><td>f64</td><td>f64</td><td>i64</td><td>f64</td><td>f64</td><td>f64</td></tr></thead><tbody><tr><td>0.23</td><td>&quot;Ideal&quot;</td><td>&quot;E&quot;</td><td>&quot;SI2&quot;</td><td>61.5</td><td>55.0</td><td>326</td><td>3.95</td><td>3.98</td><td>2.43</td></tr><tr><td>0.23</td><td>&quot;Ideal&quot;</td><td>&quot;J&quot;</td><td>&quot;VS1&quot;</td><td>62.8</td><td>56.0</td><td>340</td><td>3.93</td><td>3.9</td><td>2.46</td></tr><tr><td>0.31</td><td>&quot;Ideal&quot;</td><td>&quot;J&quot;</td><td>&quot;SI2&quot;</td><td>62.2</td><td>54.0</td><td>344</td><td>4.35</td><td>4.37</td><td>2.71</td></tr><tr><td>0.3</td><td>&quot;Ideal&quot;</td><td>&quot;I&quot;</td><td>&quot;SI2&quot;</td><td>62.0</td><td>54.0</td><td>348</td><td>4.31</td><td>4.34</td><td>2.68</td></tr><tr><td>0.33</td><td>&quot;Ideal&quot;</td><td>&quot;I&quot;</td><td>&quot;SI2&quot;</td><td>61.8</td><td>55.0</td><td>403</td><td>4.49</td><td>4.51</td><td>2.78</td></tr><tr><td>0.33</td><td>&quot;Ideal&quot;</td><td>&quot;I&quot;</td><td>&quot;SI2&quot;</td><td>61.2</td><td>56.0</td><td>403</td><td>4.49</td><td>4.5</td><td>2.75</td></tr><tr><td>0.33</td><td>&quot;Ideal&quot;</td><td>&quot;J&quot;</td><td>&quot;SI1&quot;</td><td>61.1</td><td>56.0</td><td>403</td><td>4.49</td><td>4.55</td><td>2.76</td></tr><tr><td>0.23</td><td>&quot;Ideal&quot;</td><td>&quot;G&quot;</td><td>&quot;VS1&quot;</td><td>61.9</td><td>54.0</td><td>404</td><td>3.93</td><td>3.95</td><td>2.44</td></tr><tr><td>0.32</td><td>&quot;Ideal&quot;</td><td>&quot;I&quot;</td><td>&quot;SI1&quot;</td><td>60.9</td><td>55.0</td><td>404</td><td>4.45</td><td>4.48</td><td>2.72</td></tr><tr><td>0.3</td><td>&quot;Ideal&quot;</td><td>&quot;I&quot;</td><td>&quot;SI2&quot;</td><td>61.0</td><td>59.0</td><td>405</td><td>4.3</td><td>4.33</td><td>2.63</td></tr><tr><td>0.35</td><td>&quot;Ideal&quot;</td><td>&quot;I&quot;</td><td>&quot;VS1&quot;</td><td>60.9</td><td>57.0</td><td>552</td><td>4.54</td><td>4.59</td><td>2.78</td></tr><tr><td>0.3</td><td>&quot;Ideal&quot;</td><td>&quot;D&quot;</td><td>&quot;SI1&quot;</td><td>62.5</td><td>57.0</td><td>552</td><td>4.29</td><td>4.32</td><td>2.69</td></tr><tr><td>&hellip;</td><td>&hellip;</td><td>&hellip;</td><td>&hellip;</td><td>&hellip;</td><td>&hellip;</td><td>&hellip;</td><td>&hellip;</td><td>&hellip;</td><td>&hellip;</td></tr><tr><td>0.71</td><td>&quot;Fair&quot;</td><td>&quot;F&quot;</td><td>&quot;VS1&quot;</td><td>57.3</td><td>67.0</td><td>2707</td><td>5.96</td><td>5.76</td><td>3.36</td></tr><tr><td>0.7</td><td>&quot;Fair&quot;</td><td>&quot;G&quot;</td><td>&quot;VVS2&quot;</td><td>65.3</td><td>61.0</td><td>2710</td><td>5.58</td><td>5.48</td><td>3.61</td></tr><tr><td>0.7</td><td>&quot;Fair&quot;</td><td>&quot;H&quot;</td><td>&quot;VVS2&quot;</td><td>64.5</td><td>65.0</td><td>2717</td><td>5.52</td><td>5.45</td><td>3.54</td></tr><tr><td>1.05</td><td>&quot;Fair&quot;</td><td>&quot;H&quot;</td><td>&quot;SI2&quot;</td><td>64.8</td><td>55.0</td><td>2717</td><td>6.39</td><td>6.32</td><td>4.12</td></tr><tr><td>0.78</td><td>&quot;Fair&quot;</td><td>&quot;E&quot;</td><td>&quot;SI2&quot;</td><td>66.9</td><td>57.0</td><td>2721</td><td>5.7</td><td>5.66</td><td>3.6</td></tr><tr><td>1.0</td><td>&quot;Fair&quot;</td><td>&quot;G&quot;</td><td>&quot;I1&quot;</td><td>61.7</td><td>57.0</td><td>2723</td><td>6.39</td><td>6.28</td><td>3.91</td></tr><tr><td>0.84</td><td>&quot;Fair&quot;</td><td>&quot;G&quot;</td><td>&quot;VS1&quot;</td><td>55.6</td><td>64.0</td><td>2724</td><td>6.42</td><td>6.32</td><td>3.54</td></tr><tr><td>0.72</td><td>&quot;Fair&quot;</td><td>&quot;F&quot;</td><td>&quot;VS2&quot;</td><td>55.4</td><td>64.0</td><td>2724</td><td>6.06</td><td>5.97</td><td>3.34</td></tr><tr><td>0.9</td><td>&quot;Fair&quot;</td><td>&quot;I&quot;</td><td>&quot;VS1&quot;</td><td>68.7</td><td>62.0</td><td>2732</td><td>5.83</td><td>5.79</td><td>3.99</td></tr><tr><td>1.0</td><td>&quot;Fair&quot;</td><td>&quot;I&quot;</td><td>&quot;SI2&quot;</td><td>66.8</td><td>56.0</td><td>2743</td><td>6.22</td><td>6.12</td><td>4.13</td></tr><tr><td>1.04</td><td>&quot;Fair&quot;</td><td>&quot;G&quot;</td><td>&quot;SI2&quot;</td><td>65.2</td><td>57.0</td><td>2745</td><td>6.25</td><td>6.23</td><td>4.07</td></tr><tr><td>0.71</td><td>&quot;Fair&quot;</td><td>&quot;D&quot;</td><td>&quot;VS1&quot;</td><td>65.4</td><td>59.0</td><td>2747</td><td>5.62</td><td>5.58</td><td>3.66</td></tr></tbody></table></div>"
      ],
      "text/plain": [
       "shape: (53_940, 10)\n",
       "┌───────┬───────┬───────┬─────────┬───┬───────┬──────┬──────┬──────┐\n",
       "│ carat ┆ cut   ┆ color ┆ clarity ┆ … ┆ price ┆ x    ┆ y    ┆ z    │\n",
       "│ ---   ┆ ---   ┆ ---   ┆ ---     ┆   ┆ ---   ┆ ---  ┆ ---  ┆ ---  │\n",
       "│ f64   ┆ cat   ┆ cat   ┆ cat     ┆   ┆ i64   ┆ f64  ┆ f64  ┆ f64  │\n",
       "╞═══════╪═══════╪═══════╪═════════╪═══╪═══════╪══════╪══════╪══════╡\n",
       "│ 0.23  ┆ Ideal ┆ E     ┆ SI2     ┆ … ┆ 326   ┆ 3.95 ┆ 3.98 ┆ 2.43 │\n",
       "│ 0.23  ┆ Ideal ┆ J     ┆ VS1     ┆ … ┆ 340   ┆ 3.93 ┆ 3.9  ┆ 2.46 │\n",
       "│ 0.31  ┆ Ideal ┆ J     ┆ SI2     ┆ … ┆ 344   ┆ 4.35 ┆ 4.37 ┆ 2.71 │\n",
       "│ 0.3   ┆ Ideal ┆ I     ┆ SI2     ┆ … ┆ 348   ┆ 4.31 ┆ 4.34 ┆ 2.68 │\n",
       "│ …     ┆ …     ┆ …     ┆ …       ┆ … ┆ …     ┆ …    ┆ …    ┆ …    │\n",
       "│ 0.9   ┆ Fair  ┆ I     ┆ VS1     ┆ … ┆ 2732  ┆ 5.83 ┆ 5.79 ┆ 3.99 │\n",
       "│ 1.0   ┆ Fair  ┆ I     ┆ SI2     ┆ … ┆ 2743  ┆ 6.22 ┆ 6.12 ┆ 4.13 │\n",
       "│ 1.04  ┆ Fair  ┆ G     ┆ SI2     ┆ … ┆ 2745  ┆ 6.25 ┆ 6.23 ┆ 4.07 │\n",
       "│ 0.71  ┆ Fair  ┆ D     ┆ VS1     ┆ … ┆ 2747  ┆ 5.62 ┆ 5.58 ┆ 3.66 │\n",
       "└───────┴───────┴───────┴─────────┴───┴───────┴──────┴──────┴──────┘"
      ]
     },
     "execution_count": 6,
     "metadata": {},
     "output_type": "execute_result"
    }
   ],
   "source": [
    "from prep.fct_helper import fct_levels, fct_ordered\n",
    "# diamonds.cut = fct_ordered(diamonds.cut,ordered_levels=[\"Fair\",\"Good\",\"Very Good\",\"Premium\",\"Ideal\"])\n",
    "diamonds.with_columns(\n",
    "    fct_ordered(pl.col(\"cut\"),ordered_levels=[\"Fair\",\"Good\",\"Very Good\",\"Premium\",\"Ideal\"])\n",
    ").sort(\"cut\")"
   ]
  },
  {
   "cell_type": "code",
   "execution_count": null,
   "metadata": {},
   "outputs": [],
   "source": []
  },
  {
   "cell_type": "code",
   "execution_count": 21,
   "metadata": {},
   "outputs": [
    {
     "name": "stdout",
     "output_type": "stream",
     "text": [
      "['Fair', 'Good', 'Very Good', 'Premium', 'Ideal']\n",
      "shape: (5,)\n",
      "Series: '' [cat]\n",
      "[\n",
      "\t\"Fair\"\n",
      "\t\"Good\"\n",
      "\t\"Very Good\"\n",
      "\t\"Premium\"\n",
      "\t\"Ideal\"\n",
      "]\n"
     ]
    },
    {
     "data": {
      "text/html": [
       "<div><style>\n",
       ".dataframe > thead > tr > th,\n",
       ".dataframe > tbody > tr > td {\n",
       "  text-align: right;\n",
       "}\n",
       "</style>\n",
       "<small>shape: (53_940, 2)</small><table border=\"1\" class=\"dataframe\"><thead><tr><th>cut</th><th>physical</th></tr><tr><td>cat</td><td>u32</td></tr></thead><tbody><tr><td>&quot;Ideal&quot;</td><td>0</td></tr><tr><td>&quot;Ideal&quot;</td><td>0</td></tr><tr><td>&quot;Ideal&quot;</td><td>0</td></tr><tr><td>&quot;Ideal&quot;</td><td>0</td></tr><tr><td>&quot;Ideal&quot;</td><td>0</td></tr><tr><td>&quot;Ideal&quot;</td><td>0</td></tr><tr><td>&quot;Ideal&quot;</td><td>0</td></tr><tr><td>&quot;Ideal&quot;</td><td>0</td></tr><tr><td>&quot;Ideal&quot;</td><td>0</td></tr><tr><td>&quot;Ideal&quot;</td><td>0</td></tr><tr><td>&quot;Ideal&quot;</td><td>0</td></tr><tr><td>&quot;Ideal&quot;</td><td>0</td></tr><tr><td>&hellip;</td><td>&hellip;</td></tr><tr><td>&quot;Fair&quot;</td><td>4</td></tr><tr><td>&quot;Fair&quot;</td><td>4</td></tr><tr><td>&quot;Fair&quot;</td><td>4</td></tr><tr><td>&quot;Fair&quot;</td><td>4</td></tr><tr><td>&quot;Fair&quot;</td><td>4</td></tr><tr><td>&quot;Fair&quot;</td><td>4</td></tr><tr><td>&quot;Fair&quot;</td><td>4</td></tr><tr><td>&quot;Fair&quot;</td><td>4</td></tr><tr><td>&quot;Fair&quot;</td><td>4</td></tr><tr><td>&quot;Fair&quot;</td><td>4</td></tr><tr><td>&quot;Fair&quot;</td><td>4</td></tr><tr><td>&quot;Fair&quot;</td><td>4</td></tr></tbody></table></div>"
      ],
      "text/plain": [
       "shape: (53_940, 2)\n",
       "┌───────┬──────────┐\n",
       "│ cut   ┆ physical │\n",
       "│ ---   ┆ ---      │\n",
       "│ cat   ┆ u32      │\n",
       "╞═══════╪══════════╡\n",
       "│ Ideal ┆ 0        │\n",
       "│ Ideal ┆ 0        │\n",
       "│ Ideal ┆ 0        │\n",
       "│ Ideal ┆ 0        │\n",
       "│ …     ┆ …        │\n",
       "│ Fair  ┆ 4        │\n",
       "│ Fair  ┆ 4        │\n",
       "│ Fair  ┆ 4        │\n",
       "│ Fair  ┆ 4        │\n",
       "└───────┴──────────┘"
      ]
     },
     "execution_count": 21,
     "metadata": {},
     "output_type": "execute_result"
    }
   ],
   "source": [
    "import polars as pl\n",
    "pl_diamonds = diamonds\n",
    "import pandas as pd\n",
    "from typing import Union\n",
    "\n",
    "def fct_ordered(series:Union[pd.Series,pl.Series], ordered_levels:list):\n",
    "    \"\"\"\n",
    "    Create ordered factor from string or normal cat series\n",
    "    Example: diamonds.cut = fct_ordered(diamonds.cut,ordered_levels=[\"Fair\",\"Good\",\"Very Good\",\"Premium\",\"Ideal\"])\n",
    "    \"\"\"\n",
    "    \n",
    "    if isinstance(series, pd.Series):\n",
    "        cat_type = CategoricalDtype(ordered_levels, ordered = True)\n",
    "        return series.astype(cat_type)\n",
    "    else:\n",
    "        with pl.StringCache():\n",
    "            print(ordered_levels)\n",
    "            pl.Series(ordered_levels).cast(pl.Categorical)\n",
    "            print( pl.Series(ordered_levels).cast(pl.Categorical))\n",
    "            return series.cast(pl.Categorical).cat.set_ordering('physical')\n",
    "        \n",
    "\n",
    "pl_diamonds = pl_diamonds.with_columns(\n",
    "    fct_ordered(pl.col(\"cut\"),[\"Fair\",\"Good\",\"Very Good\",\"Premium\",\"Ideal\"])\n",
    ").sort(\"cut\")\n",
    "\n",
    "pl_diamonds.select(\n",
    "    \"cut\",\n",
    "\n",
    "    pl.col(\"cut\").to_physical().alias(\"physical\")\n",
    ")\n"
   ]
  },
  {
   "cell_type": "code",
   "execution_count": null,
   "metadata": {},
   "outputs": [],
   "source": []
  },
  {
   "cell_type": "code",
   "execution_count": 47,
   "metadata": {},
   "outputs": [
    {
     "data": {
      "text/plain": [
       "['Fair', 'Good', 'Very Good', 'Premium', 'Ideal']"
      ]
     },
     "execution_count": 47,
     "metadata": {},
     "output_type": "execute_result"
    }
   ],
   "source": []
  },
  {
   "cell_type": "code",
   "execution_count": 31,
   "metadata": {},
   "outputs": [
    {
     "data": {
      "text/html": [
       "<div><style>\n",
       ".dataframe > thead > tr > th,\n",
       ".dataframe > tbody > tr > td {\n",
       "  text-align: right;\n",
       "}\n",
       "</style>\n",
       "<small>shape: (5, 3)</small><table border=\"1\" class=\"dataframe\"><thead><tr><th>cut</th><th>count</th><th>proportion</th></tr><tr><td>cat</td><td>u32</td><td>f64</td></tr></thead><tbody><tr><td>&quot;Fair&quot;</td><td>1610</td><td>0.029848</td></tr><tr><td>&quot;Good&quot;</td><td>4906</td><td>0.090953</td></tr><tr><td>&quot;Very Good&quot;</td><td>12082</td><td>0.22399</td></tr><tr><td>&quot;Premium&quot;</td><td>13791</td><td>0.255673</td></tr><tr><td>&quot;Ideal&quot;</td><td>21551</td><td>0.399537</td></tr></tbody></table></div>"
      ],
      "text/plain": [
       "shape: (5, 3)\n",
       "┌───────────┬───────┬────────────┐\n",
       "│ cut       ┆ count ┆ proportion │\n",
       "│ ---       ┆ ---   ┆ ---        │\n",
       "│ cat       ┆ u32   ┆ f64        │\n",
       "╞═══════════╪═══════╪════════════╡\n",
       "│ Fair      ┆ 1610  ┆ 0.029848   │\n",
       "│ Good      ┆ 4906  ┆ 0.090953   │\n",
       "│ Very Good ┆ 12082 ┆ 0.22399    │\n",
       "│ Premium   ┆ 13791 ┆ 0.255673   │\n",
       "│ Ideal     ┆ 21551 ┆ 0.399537   │\n",
       "└───────────┴───────┴────────────┘"
      ]
     },
     "execution_count": 31,
     "metadata": {},
     "output_type": "execute_result"
    }
   ],
   "source": [
    "prep_freq_table(pl_diamonds, group_vars=\"cut\").sort(\"cut\")"
   ]
  },
  {
   "cell_type": "code",
   "execution_count": 32,
   "metadata": {},
   "outputs": [
    {
     "data": {
      "text/html": [
       "<div><style>\n",
       ".dataframe > thead > tr > th,\n",
       ".dataframe > tbody > tr > td {\n",
       "  text-align: right;\n",
       "}\n",
       "</style>\n",
       "<small>shape: (53_940,)</small><table border=\"1\" class=\"dataframe\"><thead><tr><th>cut</th></tr><tr><td>cat</td></tr></thead><tbody><tr><td>&quot;Ideal&quot;</td></tr><tr><td>&quot;Premium&quot;</td></tr><tr><td>&quot;Good&quot;</td></tr><tr><td>&quot;Premium&quot;</td></tr><tr><td>&quot;Good&quot;</td></tr><tr><td>&quot;Very Good&quot;</td></tr><tr><td>&quot;Very Good&quot;</td></tr><tr><td>&quot;Very Good&quot;</td></tr><tr><td>&quot;Fair&quot;</td></tr><tr><td>&quot;Very Good&quot;</td></tr><tr><td>&quot;Good&quot;</td></tr><tr><td>&quot;Ideal&quot;</td></tr><tr><td>&hellip;</td></tr><tr><td>&quot;Premium&quot;</td></tr><tr><td>&quot;Ideal&quot;</td></tr><tr><td>&quot;Premium&quot;</td></tr><tr><td>&quot;Premium&quot;</td></tr><tr><td>&quot;Very Good&quot;</td></tr><tr><td>&quot;Very Good&quot;</td></tr><tr><td>&quot;Premium&quot;</td></tr><tr><td>&quot;Ideal&quot;</td></tr><tr><td>&quot;Good&quot;</td></tr><tr><td>&quot;Very Good&quot;</td></tr><tr><td>&quot;Premium&quot;</td></tr><tr><td>&quot;Ideal&quot;</td></tr></tbody></table></div>"
      ],
      "text/plain": [
       "shape: (53_940,)\n",
       "Series: 'cut' [cat]\n",
       "[\n",
       "\t\"Ideal\"\n",
       "\t\"Premium\"\n",
       "\t\"Good\"\n",
       "\t\"Premium\"\n",
       "\t\"Good\"\n",
       "\t\"Very Good\"\n",
       "\t\"Very Good\"\n",
       "\t\"Very Good\"\n",
       "\t\"Fair\"\n",
       "\t\"Very Good\"\n",
       "\t\"Good\"\n",
       "\t\"Ideal\"\n",
       "\t…\n",
       "\t\"Good\"\n",
       "\t\"Premium\"\n",
       "\t\"Ideal\"\n",
       "\t\"Premium\"\n",
       "\t\"Premium\"\n",
       "\t\"Very Good\"\n",
       "\t\"Very Good\"\n",
       "\t\"Premium\"\n",
       "\t\"Ideal\"\n",
       "\t\"Good\"\n",
       "\t\"Very Good\"\n",
       "\t\"Premium\"\n",
       "\t\"Ideal\"\n",
       "]"
      ]
     },
     "execution_count": 32,
     "metadata": {},
     "output_type": "execute_result"
    }
   ],
   "source": []
  },
  {
   "cell_type": "code",
   "execution_count": 15,
   "metadata": {},
   "outputs": [
    {
     "data": {
      "text/html": [
       "<div><style>\n",
       ".dataframe > thead > tr > th,\n",
       ".dataframe > tbody > tr > td {\n",
       "  text-align: right;\n",
       "}\n",
       "</style>\n",
       "<small>shape: (5, 3)</small><table border=\"1\" class=\"dataframe\"><thead><tr><th>cut</th><th>count</th><th>proportion</th></tr><tr><td>cat</td><td>u32</td><td>f64</td></tr></thead><tbody><tr><td>&quot;Ideal&quot;</td><td>21551</td><td>0.399537</td></tr><tr><td>&quot;Good&quot;</td><td>4906</td><td>0.090953</td></tr><tr><td>&quot;Fair&quot;</td><td>1610</td><td>0.029848</td></tr><tr><td>&quot;Very Good&quot;</td><td>12082</td><td>0.22399</td></tr><tr><td>&quot;Premium&quot;</td><td>13791</td><td>0.255673</td></tr></tbody></table></div>"
      ],
      "text/plain": [
       "shape: (5, 3)\n",
       "┌───────────┬───────┬────────────┐\n",
       "│ cut       ┆ count ┆ proportion │\n",
       "│ ---       ┆ ---   ┆ ---        │\n",
       "│ cat       ┆ u32   ┆ f64        │\n",
       "╞═══════════╪═══════╪════════════╡\n",
       "│ Ideal     ┆ 21551 ┆ 0.399537   │\n",
       "│ Good      ┆ 4906  ┆ 0.090953   │\n",
       "│ Fair      ┆ 1610  ┆ 0.029848   │\n",
       "│ Very Good ┆ 12082 ┆ 0.22399    │\n",
       "│ Premium   ┆ 13791 ┆ 0.255673   │\n",
       "└───────────┴───────┴────────────┘"
      ]
     },
     "execution_count": 15,
     "metadata": {},
     "output_type": "execute_result"
    }
   ],
   "source": [
    "from prep.prep_freq_table import prep_freq_table\n",
    "import polars as pl\n",
    "prep_freq_table(pl.DataFrame(diamonds).with_columns(pl.col(\"cut\").cat.set_ordering('physical')), group_vars=\"cut\")"
   ]
  },
  {
   "cell_type": "code",
   "execution_count": 22,
   "metadata": {},
   "outputs": [
    {
     "data": {
      "text/plain": [
       "<polars.series.categorical.CatNameSpace at 0x18e61bdcd30>"
      ]
     },
     "execution_count": 22,
     "metadata": {},
     "output_type": "execute_result"
    }
   ],
   "source": [
    "pl.DataFrame(diamonds).select(\"cut\").to_series().cat"
   ]
  }
 ],
 "metadata": {
  "kernelspec": {
   "display_name": ".venv",
   "language": "python",
   "name": "python3"
  },
  "language_info": {
   "codemirror_mode": {
    "name": "ipython",
    "version": 3
   },
   "file_extension": ".py",
   "mimetype": "text/x-python",
   "name": "python",
   "nbconvert_exporter": "python",
   "pygments_lexer": "ipython3",
   "version": "3.9.13"
  },
  "orig_nbformat": 4
 },
 "nbformat": 4,
 "nbformat_minor": 2
}
